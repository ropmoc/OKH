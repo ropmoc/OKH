{
 "cells": [
  {
   "cell_type": "code",
   "execution_count": 1,
   "metadata": {},
   "outputs": [],
   "source": [
    "import pandas as pd\n",
    "import numpy as np\n",
    "import time\n",
    "import os\n",
    "\n",
    "os.chdir(r'c:\\Users\\DELL\\Documents\\project\\OKH')\n",
    "#BENAR"
   ]
  },
  {
   "cell_type": "code",
   "execution_count": null,
   "metadata": {},
   "outputs": [],
   "source": [
    "crs = pd.read_csv('toronto/sta-f-83.crs', header=None, sep=' ')\n",
    "stu = pd.read_csv('toronto/sta-f-83.stu', header=None, sep=' ', names=np.arange(1,10,1),skip_blank_lines=False)\n",
    "\n",
    "stu = stu.fillna(0)\n",
    "\n",
    "#BENAR"
   ]
  },
  {
   "cell_type": "code",
   "execution_count": 3,
   "metadata": {},
   "outputs": [],
   "source": [
    "for i in range(len(stu.columns)):\n",
    "    sum_kolom = sum(stu[i+1])\n",
    "    if sum_kolom==0:\n",
    "        stu = stu.drop(columns=i+1)\n",
    "#BENAR"
   ]
  },
  {
   "cell_type": "code",
   "execution_count": 4,
   "metadata": {},
   "outputs": [],
   "source": [
    "matrix = pd.DataFrame(0, index=range(1,len(crs)+1), columns = range(1,len(crs)+1), dtype=int)\n",
    "#BENAR"
   ]
  },
  {
   "cell_type": "code",
   "execution_count": null,
   "metadata": {},
   "outputs": [],
   "source": [
    "start_time_matrix = time.time()\n",
    "for i in range(len(stu)):\n",
    "    for j in range(len(stu.columns)-1):\n",
    "        for k in range(j+1,len(stu.columns)):\n",
    "            \n",
    "            a = int(stu.iloc[i, j])\n",
    "            b = int(stu.iloc[i, k])\n",
    "            if b == 0 or a == b:\n",
    "                break\n",
    "            matrix.iloc[a-1, b-1] = 1\n",
    "            matrix.iloc[b-1, a-1] = 1\n",
    "            break\n",
    "        if stu.iloc[i, j] == 0:\n",
    "            break\n",
    "print(\"--- %s seconds ---\" % (time.time() - start_time_matrix))\n",
    "#BENAR"
   ]
  },
  {
   "cell_type": "code",
   "execution_count": null,
   "metadata": {
    "scrolled": false
   },
   "outputs": [],
   "source": [
    "matrix2=matrix\n",
    "degree = []\n",
    "for i in range(1,len(matrix2.columns)+1):\n",
    "    degree.append(sum(matrix2[i]))\n",
    "#BENAR"
   ]
  },
  {
   "cell_type": "code",
   "execution_count": null,
   "metadata": {},
   "outputs": [],
   "source": [
    "crash=[]\n",
    "temp=[]\n",
    "start_time = time.time()\n",
    "for i in range(0,len(matrix2)):\n",
    "    for j in range(len(matrix2)):\n",
    "        if matrix2.iloc[i,j]>0:\n",
    "            class_crash=j+1\n",
    "            temp.append(class_crash)\n",
    "    crash.append(temp)\n",
    "    temp=[]\n",
    "print(\"--- %s seconds ---\" % (time.time() - start_time))\n",
    "#BENAR"
   ]
  },
  {
   "cell_type": "code",
   "execution_count": null,
   "metadata": {},
   "outputs": [],
   "source": [
    "crs_degree=[]\n",
    "for i in range(len(degree)):\n",
    "    temp=[i+1,degree[i],crash[i]]\n",
    "    crs_degree.append(temp)\n",
    "#BENAR"
   ]
  },
  {
   "cell_type": "code",
   "execution_count": null,
   "metadata": {},
   "outputs": [],
   "source": [
    "col_table = pd.DataFrame(crs_degree,columns=['course', 'degree','node'])\n",
    "col_table['color']=np.nan\n",
    "col_table.set_index('course')\n",
    "#BENAR"
   ]
  },
  {
   "cell_type": "code",
   "execution_count": null,
   "metadata": {},
   "outputs": [],
   "source": [
    "sort_col_table = col_table.sort_values('degree',ascending=False)\n",
    "#BENAR"
   ]
  },
  {
   "cell_type": "code",
   "execution_count": null,
   "metadata": {},
   "outputs": [],
   "source": [
    "slot=[[]]\n",
    "color=1\n",
    "set_color=[]\n",
    "start_time_solve = time.time()\n",
    "for i in range(len(sort_col_table)):\n",
    "    for j in range(len(slot)):\n",
    "        if any(a in sort_col_table.iloc[i,2] for a in slot[j]):\n",
    "            if j==len(slot)-1:\n",
    "                slot.append([sort_col_table.iloc[i,0]])\n",
    "                set_color.append(color)\n",
    "                color+=1\n",
    "            continue\n",
    "        else:\n",
    "            slot[j].append(sort_col_table.iloc[i,0])\n",
    "            break\n",
    "print(\"--- %s seconds ---\" % (time.time() - start_time_solve))\n",
    "#BENAR"
   ]
  },
  {
   "cell_type": "code",
   "execution_count": null,
   "metadata": {},
   "outputs": [],
   "source": [
    "len(set_color)"
   ]
  },
  {
   "cell_type": "code",
   "execution_count": null,
   "metadata": {},
   "outputs": [],
   "source": [
    "slot"
   ]
  },
  {
   "cell_type": "code",
   "execution_count": null,
   "metadata": {},
   "outputs": [],
   "source": []
  }
 ],
 "metadata": {
  "kernelspec": {
   "display_name": "gpu",
   "language": "python",
   "name": "gpu"
  },
  "language_info": {
   "codemirror_mode": {
    "name": "ipython",
    "version": 3
   },
   "file_extension": ".py",
   "mimetype": "text/x-python",
   "name": "python",
   "nbconvert_exporter": "python",
   "pygments_lexer": "ipython3",
   "version": "3.5.6"
  }
 },
 "nbformat": 4,
 "nbformat_minor": 2
}
